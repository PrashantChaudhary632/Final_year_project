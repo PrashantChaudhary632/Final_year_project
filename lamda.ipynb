{
 "cells": [
  {
   "cell_type": "code",
   "execution_count": 2,
   "metadata": {},
   "outputs": [
    {
     "name": "stdout",
     "output_type": "stream",
     "text": [
      "Arrival rate (λ) per second: 8.820815878715341e-05\n",
      "Arrival rate (λ) per minute: 0.005292489527229205\n",
      "Arrival rate (λ) per hour: 0.3175493716337523\n"
     ]
    }
   ],
   "source": [
    "import pandas as pd\n",
    "\n",
    "\n",
    "data = pd.read_excel('D:\\\\Final Year Project\\\\Vehicle Data.xlsx')\n",
    "\n",
    "# Combine 'Date' and 'Arrival Time' to create a full datetime for arrival\n",
    "data['Arrival Datetime'] = pd.to_datetime(data['Date'].astype(str) + ' ' + data['Arrival Time'].astype(str))\n",
    "\n",
    "# Sort the data by the newly created 'Arrival Datetime'\n",
    "data_sorted = data.sort_values(by='Arrival Datetime').reset_index(drop=True)\n",
    "\n",
    "# Calculate the time intervals between consecutive arrivals\n",
    "data_sorted['Interarrival Time'] = data_sorted['Arrival Datetime'].diff().dt.total_seconds()\n",
    "\n",
    "# Remove the first row as it will have NaN for the first difference\n",
    "interarrival_times = data_sorted['Interarrival Time'].dropna()\n",
    "\n",
    "# Calculate lambda (arrival rate) as the inverse of the average interarrival time\n",
    "lambda_estimate = 1 / interarrival_times.mean()\n",
    "\n",
    "# Convert lambda to arrivals per minute and per hour\n",
    "lambda_per_minute = lambda_estimate * 60\n",
    "lambda_per_hour = lambda_estimate * 3600\n",
    "\n",
    "print(\"Arrival rate (λ) per second:\", lambda_estimate)\n",
    "print(\"Arrival rate (λ) per minute:\", lambda_per_minute)\n",
    "print(\"Arrival rate (λ) per hour:\", lambda_per_hour)\n"
   ]
  },
  {
   "cell_type": "code",
   "execution_count": null,
   "metadata": {},
   "outputs": [],
   "source": []
  }
 ],
 "metadata": {
  "kernelspec": {
   "display_name": "Python 3",
   "language": "python",
   "name": "python3"
  },
  "language_info": {
   "codemirror_mode": {
    "name": "ipython",
    "version": 3
   },
   "file_extension": ".py",
   "mimetype": "text/x-python",
   "name": "python",
   "nbconvert_exporter": "python",
   "pygments_lexer": "ipython3",
   "version": "3.12.4"
  }
 },
 "nbformat": 4,
 "nbformat_minor": 2
}
