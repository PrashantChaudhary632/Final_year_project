{
 "cells": [
  {
   "cell_type": "code",
   "execution_count": 1,
   "metadata": {},
   "outputs": [
    {
     "name": "stdout",
     "output_type": "stream",
     "text": [
      "Car arrived\n",
      "Car arrived\n",
      "Car arrived\n",
      "Car arrived\n",
      "Car arrived\n",
      "Car arrived\n",
      "Car arrived\n",
      "Car arrived\n",
      "Simulation complete\n"
     ]
    }
   ],
   "source": [
    "import simpy\n",
    "import numpy as np\n",
    "import matplotlib.pyplot as plt\n",
    "import seaborn as sns\n",
    "\n",
    "# Simulation parameters\n",
    "PARKING_SPACES = 250\n",
    "SIMULATION_DAYS = 30\n",
    "SIMULATION_HOURS = 12\n",
    "SIMULATION_TIME = SIMULATION_HOURS * 60\n",
    "PARKING_DURATION_MEAN = 59\n",
    "\n",
    "def calculate_parking_fee(parking_time):\n",
    "    return 15  # Simplified fee calculation\n",
    "\n",
    "def car(env):\n",
    "    yield env.timeout(1)\n",
    "    print(\"Car arrived\")\n",
    "\n",
    "def car_day(env):\n",
    "    while True:\n",
    "        yield env.timeout(1)\n",
    "        env.process(car(env))\n",
    "\n",
    "# Set up the simulation environment\n",
    "env = simpy.Environment()\n",
    "env.process(car_day(env))\n",
    "env.run(until=10)\n",
    "\n",
    "print(\"Simulation complete\")\n"
   ]
  },
  {
   "cell_type": "code",
   "execution_count": null,
   "metadata": {},
   "outputs": [],
   "source": []
  }
 ],
 "metadata": {
  "kernelspec": {
   "display_name": "Python 3",
   "language": "python",
   "name": "python3"
  },
  "language_info": {
   "codemirror_mode": {
    "name": "ipython",
    "version": 3
   },
   "file_extension": ".py",
   "mimetype": "text/x-python",
   "name": "python",
   "nbconvert_exporter": "python",
   "pygments_lexer": "ipython3",
   "version": "3.12.4"
  }
 },
 "nbformat": 4,
 "nbformat_minor": 2
}
